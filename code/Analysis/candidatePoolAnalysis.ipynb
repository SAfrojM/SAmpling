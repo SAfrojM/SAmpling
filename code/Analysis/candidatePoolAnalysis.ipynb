{
 "cells": [
  {
   "cell_type": "code",
   "execution_count": 2,
   "metadata": {},
   "outputs": [],
   "source": [
    "import numpy as np\n",
    "import pandas as pd"
   ]
  },
  {
   "cell_type": "code",
   "execution_count": 36,
   "metadata": {},
   "outputs": [],
   "source": [
    "def candidatePoolCellAnalysis(candidatePoolCell):\n",
    "    replicate=candidatePoolCell['repli'].unique()\n",
    "    iterPerReplicate=candidatePoolCell['iterRepli'].max()\n",
    "    candidatePoolCell.dayd -=candidatePoolCell.emergenceDay\n",
    "    #day=len(candidatePoolCell['dayd'].unique().tolist())\n",
    "    day=candidatePoolCell['dayd'].unique()\n",
    "    cPool=[]\n",
    "    for i in replicate:\n",
    "        for j in day:\n",
    "            cPForReplicateDay=candidatePoolCell.loc[(candidatePoolCell['repli']==i)&(candidatePoolCell['dayd']==j)]\n",
    "            cPool.append([i,j, cPForReplicateDay['UFullPool'].mean(), cPForReplicateDay['UVariant2'].mean(), cPForReplicateDay['UFullPool_sym'].mean(), cPForReplicateDay['UFullPool_asym'].mean()])\n",
    "    #MfIR is the abbreviation of the mean from iterPerReplicate\n",
    "    cPooldf = pd.DataFrame(cPool, columns=['iter', 'dayd', 'UFullPool_MfIR', 'UVariant2_MfIR', 'UFullPool_sym_MfIR', 'UFullPool_asym_MfIR'])\n",
    "    UFullPool_MfIR_p=cPooldf.pivot(index='iter', columns='dayd', values='UFullPool_MfIR')\n",
    "    UVariant2_MfIR_p=cPooldf.pivot(index='iter', columns='dayd', values='UVariant2_MfIR')\n",
    "    UFullPool_sym_MfIR_p=cPooldf.pivot(index='iter', columns='dayd', values='UFullPool_sym_MfIR')\n",
    "    UFullPool_asym_MfIR_p=cPooldf.pivot(index='iter', columns='dayd', values='UFullPool_asym_MfIR')\n",
    "    "
   ]
  },
  {
   "cell_type": "code",
   "execution_count": 37,
   "metadata": {},
   "outputs": [],
   "source": [
    "samplingName='randomWithMemoryAdjustExp4CanditatePool_tau_'\n",
    "f='/project/biocomplexity/biosurveillance/EpiHiper/postProcessing/combineSamplingResult/'+samplingName+'_rep_20.csv'\n",
    "\n",
    "candidatePool=pd.read_csv(f)\n",
    "tau = np.array([0.02, 0.03])\n",
    "seedLoc=np.array([51, 51059, 51121])\n",
    "emergenceDay=np.array([90, 120, 150])\n",
    "combination=[(i, j, k) for i in tau for j in seedLoc for k in emergenceDay]\n",
    "for i in combination:\n",
    "    #print(i)\n",
    "    candidatePoolCell=candidatePool.loc[(candidatePool['tau1']==i[0])&(candidatePool['seedLoc1']==i[1])&(candidatePool['emergenceDay']==i[2])&(candidatePool['Bg']==15)].copy()\n",
    "    \n",
    "    candidatePoolCellAnalysis(candidatePoolCell)\n",
    "    break\n",
    "    \n",
    "  \n",
    "    "
   ]
  },
  {
   "cell_type": "code",
   "execution_count": 38,
   "metadata": {},
   "outputs": [],
   "source": [
    "arr = np.array(UFullPool_asym_MfIR_p)\n",
    "ss=np.sort(arr, axis=0)\n",
    "#np.median(arr, axis=0)\n"
   ]
  },
  {
   "cell_type": "code",
   "execution_count": 39,
   "metadata": {},
   "outputs": [],
   "source": [
    "#UFullPool_asym_MfIR_p.quantile(0.5, axis=0)"
   ]
  },
  {
   "cell_type": "code",
   "execution_count": null,
   "metadata": {},
   "outputs": [],
   "source": []
  }
 ],
 "metadata": {
  "kernelspec": {
   "display_name": "Python 3",
   "language": "python",
   "name": "python3"
  },
  "language_info": {
   "codemirror_mode": {
    "name": "ipython",
    "version": 3
   },
   "file_extension": ".py",
   "mimetype": "text/x-python",
   "name": "python",
   "nbconvert_exporter": "python",
   "pygments_lexer": "ipython3",
   "version": "3.8.8"
  }
 },
 "nbformat": 4,
 "nbformat_minor": 4
}
